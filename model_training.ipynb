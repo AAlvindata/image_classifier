{
 "cells": [
  {
   "cell_type": "code",
   "execution_count": 6,
   "id": "11d9b2a3",
   "metadata": {},
   "outputs": [],
   "source": [
    "# fix error\n",
    "import os\n",
    "os.environ['TF_CPP_MIN_LOG_LEVEL'] = '2'"
   ]
  },
  {
   "cell_type": "code",
   "execution_count": 7,
   "id": "070443c1",
   "metadata": {},
   "outputs": [],
   "source": [
    "import tensorflow as tf\n",
    "from tensorflow import keras\n",
    "from tensorflow.keras import layers"
   ]
  },
  {
   "cell_type": "code",
   "execution_count": 8,
   "id": "546b199a",
   "metadata": {},
   "outputs": [],
   "source": [
    "# load data\n",
    "cifar10 = keras.datasets.cifar10\n",
    "(train_images, train_labels), (test_images, test_labels) = cifar10.load_data()"
   ]
  },
  {
   "cell_type": "code",
   "execution_count": 9,
   "id": "a61c29f3",
   "metadata": {},
   "outputs": [
    {
     "name": "stdout",
     "output_type": "stream",
     "text": [
      "(50000, 32, 32, 3)\n",
      "<class 'numpy.ndarray'>\n"
     ]
    }
   ],
   "source": [
    "print(train_images.shape)\n",
    "print(type(train_images))\n",
    "# resize photos\n",
    "#rs_train_images = []\n",
    "#for train_image in train_images:\n",
    "#    rs_train_image = tf.image.resize(train_image, [244, 244])\n",
    "#    rs_train_images.append(rs_train_image)\n",
    "#print(rs_train_images.shape)"
   ]
  },
  {
   "cell_type": "code",
   "execution_count": 11,
   "id": "29bd29cf",
   "metadata": {},
   "outputs": [],
   "source": [
    "# normalization\n",
    "train_images, test_images = train_images / 255.0, test_images / 255.0"
   ]
  },
  {
   "cell_type": "code",
   "execution_count": 12,
   "id": "b861c7c2",
   "metadata": {},
   "outputs": [],
   "source": [
    "class_names = ['airplane', 'automobile', 'bird', 'cat', 'deer', 'dog', 'frog', 'horse', 'ship', 'truck']"
   ]
  },
  {
   "cell_type": "code",
   "execution_count": 14,
   "id": "e9667a94",
   "metadata": {},
   "outputs": [
    {
     "name": "stdout",
     "output_type": "stream",
     "text": [
      "Model: \"sequential\"\n",
      "_________________________________________________________________\n",
      " Layer (type)                Output Shape              Param #   \n",
      "=================================================================\n",
      " conv2d (Conv2D)             (None, 30, 30, 32)        896       \n",
      "                                                                 \n",
      " max_pooling2d (MaxPooling2D  (None, 15, 15, 32)       0         \n",
      " )                                                               \n",
      "                                                                 \n",
      " conv2d_1 (Conv2D)           (None, 13, 13, 32)        9248      \n",
      "                                                                 \n",
      " max_pooling2d_1 (MaxPooling  (None, 6, 6, 32)         0         \n",
      " 2D)                                                             \n",
      "                                                                 \n",
      " flatten (Flatten)           (None, 1152)              0         \n",
      "                                                                 \n",
      " dense (Dense)               (None, 64)                73792     \n",
      "                                                                 \n",
      " dense_1 (Dense)             (None, 10)                650       \n",
      "                                                                 \n",
      "=================================================================\n",
      "Total params: 84,586\n",
      "Trainable params: 84,586\n",
      "Non-trainable params: 0\n",
      "_________________________________________________________________\n",
      "None\n"
     ]
    }
   ],
   "source": [
    "# model configuration\n",
    "model = keras.models.Sequential()\n",
    "model.add(layers.Conv2D(32, (3,3), activation='relu', input_shape=(32,32,3)))\n",
    "model.add(layers.MaxPool2D())\n",
    "model.add(layers.Conv2D(32, (3,3), activation='relu'))\n",
    "model.add(layers.MaxPool2D())\n",
    "\n",
    "model.add(layers.Flatten())\n",
    "model.add(layers.Dense(64, activation='relu'))\n",
    "model.add(layers.Dense(10))\n",
    "\n",
    "print(model.summary())"
   ]
  },
  {
   "cell_type": "code",
   "execution_count": 15,
   "id": "a98b5126",
   "metadata": {},
   "outputs": [],
   "source": [
    "# loss and optimizer\n",
    "loss = keras.losses.SparseCategoricalCrossentropy(from_logits=True)\n",
    "optim = keras.optimizers.Adam(learning_rate=0.001)\n",
    "metrics = ['accuracy']\n",
    "\n",
    "model.compile(optimizer=optim, loss=loss, metrics=metrics)"
   ]
  },
  {
   "cell_type": "code",
   "execution_count": 16,
   "id": "14b86dab",
   "metadata": {},
   "outputs": [
    {
     "name": "stdout",
     "output_type": "stream",
     "text": [
      "Epoch 1/60\n",
      "782/782 - 18s - loss: 1.5831 - accuracy: 0.4284 - 18s/epoch - 23ms/step\n",
      "Epoch 2/60\n",
      "782/782 - 21s - loss: 1.2564 - accuracy: 0.5549 - 21s/epoch - 27ms/step\n",
      "Epoch 3/60\n",
      "782/782 - 22s - loss: 1.1237 - accuracy: 0.6061 - 22s/epoch - 28ms/step\n",
      "Epoch 4/60\n",
      "782/782 - 21s - loss: 1.0344 - accuracy: 0.6379 - 21s/epoch - 27ms/step\n",
      "Epoch 5/60\n",
      "782/782 - 21s - loss: 0.9831 - accuracy: 0.6569 - 21s/epoch - 27ms/step\n",
      "Epoch 6/60\n",
      "782/782 - 21s - loss: 0.9311 - accuracy: 0.6766 - 21s/epoch - 27ms/step\n",
      "Epoch 7/60\n",
      "782/782 - 21s - loss: 0.8882 - accuracy: 0.6922 - 21s/epoch - 27ms/step\n",
      "Epoch 8/60\n",
      "782/782 - 21s - loss: 0.8587 - accuracy: 0.7018 - 21s/epoch - 27ms/step\n",
      "Epoch 9/60\n",
      "782/782 - 21s - loss: 0.8277 - accuracy: 0.7111 - 21s/epoch - 27ms/step\n",
      "Epoch 10/60\n",
      "782/782 - 21s - loss: 0.7929 - accuracy: 0.7223 - 21s/epoch - 27ms/step\n",
      "Epoch 11/60\n",
      "782/782 - 22s - loss: 0.7635 - accuracy: 0.7361 - 22s/epoch - 28ms/step\n",
      "Epoch 12/60\n",
      "782/782 - 21s - loss: 0.7375 - accuracy: 0.7441 - 21s/epoch - 27ms/step\n",
      "Epoch 13/60\n",
      "782/782 - 21s - loss: 0.7144 - accuracy: 0.7520 - 21s/epoch - 27ms/step\n",
      "Epoch 14/60\n",
      "782/782 - 21s - loss: 0.6902 - accuracy: 0.7592 - 21s/epoch - 27ms/step\n",
      "Epoch 15/60\n",
      "782/782 - 23s - loss: 0.6710 - accuracy: 0.7644 - 23s/epoch - 29ms/step\n",
      "Epoch 16/60\n",
      "782/782 - 22s - loss: 0.6505 - accuracy: 0.7717 - 22s/epoch - 28ms/step\n",
      "Epoch 17/60\n",
      "782/782 - 21s - loss: 0.6314 - accuracy: 0.7797 - 21s/epoch - 27ms/step\n",
      "Epoch 18/60\n",
      "782/782 - 21s - loss: 0.6104 - accuracy: 0.7857 - 21s/epoch - 27ms/step\n",
      "Epoch 19/60\n",
      "782/782 - 20s - loss: 0.5941 - accuracy: 0.7928 - 20s/epoch - 26ms/step\n",
      "Epoch 20/60\n",
      "782/782 - 21s - loss: 0.5771 - accuracy: 0.7982 - 21s/epoch - 26ms/step\n",
      "Epoch 21/60\n",
      "782/782 - 21s - loss: 0.5561 - accuracy: 0.8068 - 21s/epoch - 27ms/step\n",
      "Epoch 22/60\n",
      "782/782 - 21s - loss: 0.5495 - accuracy: 0.8063 - 21s/epoch - 27ms/step\n",
      "Epoch 23/60\n",
      "782/782 - 22s - loss: 0.5344 - accuracy: 0.8141 - 22s/epoch - 28ms/step\n",
      "Epoch 24/60\n",
      "782/782 - 21s - loss: 0.5197 - accuracy: 0.8188 - 21s/epoch - 26ms/step\n",
      "Epoch 25/60\n",
      "782/782 - 30s - loss: 0.4995 - accuracy: 0.8243 - 30s/epoch - 39ms/step\n",
      "Epoch 26/60\n",
      "782/782 - 31s - loss: 0.4921 - accuracy: 0.8264 - 31s/epoch - 39ms/step\n",
      "Epoch 27/60\n",
      "782/782 - 27s - loss: 0.4786 - accuracy: 0.8311 - 27s/epoch - 34ms/step\n",
      "Epoch 28/60\n",
      "782/782 - 23s - loss: 0.4679 - accuracy: 0.8346 - 23s/epoch - 29ms/step\n",
      "Epoch 29/60\n",
      "782/782 - 23s - loss: 0.4517 - accuracy: 0.8395 - 23s/epoch - 29ms/step\n",
      "Epoch 30/60\n",
      "782/782 - 27s - loss: 0.4394 - accuracy: 0.8463 - 27s/epoch - 35ms/step\n",
      "Epoch 31/60\n",
      "782/782 - 26s - loss: 0.4272 - accuracy: 0.8499 - 26s/epoch - 33ms/step\n",
      "Epoch 32/60\n",
      "782/782 - 22s - loss: 0.4175 - accuracy: 0.8518 - 22s/epoch - 28ms/step\n",
      "Epoch 33/60\n",
      "782/782 - 25s - loss: 0.4028 - accuracy: 0.8588 - 25s/epoch - 32ms/step\n",
      "Epoch 34/60\n",
      "782/782 - 23s - loss: 0.3960 - accuracy: 0.8598 - 23s/epoch - 30ms/step\n",
      "Epoch 35/60\n",
      "782/782 - 30s - loss: 0.3863 - accuracy: 0.8632 - 30s/epoch - 38ms/step\n",
      "Epoch 36/60\n",
      "782/782 - 23s - loss: 0.3725 - accuracy: 0.8678 - 23s/epoch - 29ms/step\n",
      "Epoch 37/60\n",
      "782/782 - 28s - loss: 0.3634 - accuracy: 0.8713 - 28s/epoch - 36ms/step\n",
      "Epoch 38/60\n",
      "782/782 - 32s - loss: 0.3573 - accuracy: 0.8728 - 32s/epoch - 41ms/step\n",
      "Epoch 39/60\n",
      "782/782 - 28s - loss: 0.3478 - accuracy: 0.8764 - 28s/epoch - 36ms/step\n",
      "Epoch 40/60\n",
      "782/782 - 29s - loss: 0.3409 - accuracy: 0.8794 - 29s/epoch - 37ms/step\n",
      "Epoch 41/60\n",
      "782/782 - 23s - loss: 0.3296 - accuracy: 0.8837 - 23s/epoch - 30ms/step\n",
      "Epoch 42/60\n",
      "782/782 - 21s - loss: 0.3233 - accuracy: 0.8836 - 21s/epoch - 26ms/step\n",
      "Epoch 43/60\n",
      "782/782 - 23s - loss: 0.3114 - accuracy: 0.8894 - 23s/epoch - 30ms/step\n",
      "Epoch 44/60\n",
      "782/782 - 26s - loss: 0.3022 - accuracy: 0.8930 - 26s/epoch - 34ms/step\n",
      "Epoch 45/60\n",
      "782/782 - 25s - loss: 0.2980 - accuracy: 0.8927 - 25s/epoch - 32ms/step\n",
      "Epoch 46/60\n",
      "782/782 - 26s - loss: 0.2885 - accuracy: 0.8971 - 26s/epoch - 34ms/step\n",
      "Epoch 47/60\n",
      "782/782 - 23s - loss: 0.2798 - accuracy: 0.9003 - 23s/epoch - 30ms/step\n",
      "Epoch 48/60\n",
      "782/782 - 22s - loss: 0.2749 - accuracy: 0.9019 - 22s/epoch - 29ms/step\n",
      "Epoch 49/60\n",
      "782/782 - 24s - loss: 0.2626 - accuracy: 0.9069 - 24s/epoch - 30ms/step\n",
      "Epoch 50/60\n",
      "782/782 - 21s - loss: 0.2655 - accuracy: 0.9060 - 21s/epoch - 26ms/step\n",
      "Epoch 51/60\n",
      "782/782 - 21s - loss: 0.2571 - accuracy: 0.9079 - 21s/epoch - 26ms/step\n",
      "Epoch 52/60\n",
      "782/782 - 21s - loss: 0.2502 - accuracy: 0.9106 - 21s/epoch - 26ms/step\n",
      "Epoch 53/60\n",
      "782/782 - 21s - loss: 0.2478 - accuracy: 0.9114 - 21s/epoch - 27ms/step\n",
      "Epoch 54/60\n",
      "782/782 - 21s - loss: 0.2356 - accuracy: 0.9164 - 21s/epoch - 27ms/step\n",
      "Epoch 55/60\n",
      "782/782 - 21s - loss: 0.2327 - accuracy: 0.9177 - 21s/epoch - 27ms/step\n",
      "Epoch 56/60\n",
      "782/782 - 21s - loss: 0.2276 - accuracy: 0.9187 - 21s/epoch - 27ms/step\n",
      "Epoch 57/60\n",
      "782/782 - 22s - loss: 0.2258 - accuracy: 0.9195 - 22s/epoch - 28ms/step\n",
      "Epoch 58/60\n",
      "782/782 - 22s - loss: 0.2168 - accuracy: 0.9229 - 22s/epoch - 28ms/step\n",
      "Epoch 59/60\n",
      "782/782 - 22s - loss: 0.2096 - accuracy: 0.9256 - 22s/epoch - 28ms/step\n",
      "Epoch 60/60\n",
      "782/782 - 22s - loss: 0.2097 - accuracy: 0.9260 - 22s/epoch - 28ms/step\n"
     ]
    },
    {
     "data": {
      "text/plain": [
       "<keras.callbacks.History at 0x138241c6940>"
      ]
     },
     "execution_count": 16,
     "metadata": {},
     "output_type": "execute_result"
    }
   ],
   "source": [
    "# training\n",
    "batch_size = 64\n",
    "epochs = 60\n",
    "early_stopping = keras.callbacks.EarlyStopping(\n",
    "    monitor=\"accuracy\",\n",
    "    patience=5,\n",
    "    verbose=2\n",
    ")\n",
    "model.fit(train_images, train_labels, epochs=epochs, batch_size=batch_size, verbose=2)"
   ]
  },
  {
   "cell_type": "code",
   "execution_count": 17,
   "id": "30b82a7b",
   "metadata": {
    "scrolled": true
   },
   "outputs": [
    {
     "name": "stdout",
     "output_type": "stream",
     "text": [
      "157/157 - 1s - loss: 2.1033 - accuracy: 0.6555 - 1s/epoch - 7ms/step\n"
     ]
    },
    {
     "data": {
      "text/plain": [
       "[2.1032612323760986, 0.6554999947547913]"
      ]
     },
     "execution_count": 17,
     "metadata": {},
     "output_type": "execute_result"
    }
   ],
   "source": [
    "# evaluation\n",
    "model.evaluate(test_images, test_labels, batch_size=batch_size, verbose=2)"
   ]
  },
  {
   "cell_type": "code",
   "execution_count": 19,
   "id": "56bb0c5f",
   "metadata": {},
   "outputs": [
    {
     "name": "stderr",
     "output_type": "stream",
     "text": [
      "WARNING:absl:Found untraced functions such as _jit_compiled_convolution_op, _jit_compiled_convolution_op while saving (showing 2 of 2). These functions will not be directly callable after loading.\n"
     ]
    },
    {
     "name": "stdout",
     "output_type": "stream",
     "text": [
      "INFO:tensorflow:Assets written to: nn\\assets\n"
     ]
    },
    {
     "name": "stderr",
     "output_type": "stream",
     "text": [
      "INFO:tensorflow:Assets written to: nn\\assets\n"
     ]
    }
   ],
   "source": [
    "model.save(\"nn\")"
   ]
  },
  {
   "cell_type": "code",
   "execution_count": null,
   "id": "344ad24e",
   "metadata": {},
   "outputs": [],
   "source": []
  }
 ],
 "metadata": {
  "kernelspec": {
   "display_name": "Python 3 (ipykernel)",
   "language": "python",
   "name": "python3"
  },
  "language_info": {
   "codemirror_mode": {
    "name": "ipython",
    "version": 3
   },
   "file_extension": ".py",
   "mimetype": "text/x-python",
   "name": "python",
   "nbconvert_exporter": "python",
   "pygments_lexer": "ipython3",
   "version": "3.7.15"
  }
 },
 "nbformat": 4,
 "nbformat_minor": 5
}
